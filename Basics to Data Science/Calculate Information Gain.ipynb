{
 "cells": [
  {
   "cell_type": "code",
   "execution_count": 1,
   "metadata": {},
   "outputs": [],
   "source": [
    "# Libraries\n",
    "import pandas as pd\n",
    "import numpy as np\n",
    "from info_gain import info_gain as ig"
   ]
  },
  {
   "cell_type": "code",
   "execution_count": 2,
   "metadata": {},
   "outputs": [
    {
     "name": "stdout",
     "output_type": "stream",
     "text": [
      "   Sepal length in cm  Sepal width in cm  Petal length in cm  \\\n",
      "0                 5.1                3.5                 1.4   \n",
      "1                 4.9                3.0                 1.4   \n",
      "2                 4.7                3.2                 1.3   \n",
      "3                 4.6                3.1                 1.5   \n",
      "4                 5.0                3.6                 1.4   \n",
      "\n",
      "   Petal width in cm  Class_label  \n",
      "0                0.2  Iris-setosa  \n",
      "1                0.2  Iris-setosa  \n",
      "2                0.2  Iris-setosa  \n",
      "3                0.2  Iris-setosa  \n",
      "4                0.2  Iris-setosa  \n"
     ]
    }
   ],
   "source": [
    "# Initializing dataset\n",
    "df = pd.read_excel('C:\\\\Users\\\\abhay\\\\PycharmProjects\\\\Thesis Prework (Findings)\\\\Datasets\\\\Iris Dataset.xlsx')\n",
    "print(df.head())"
   ]
  },
  {
   "cell_type": "code",
   "execution_count": 3,
   "metadata": {},
   "outputs": [
    {
     "name": "stdout",
     "output_type": "stream",
     "text": [
      "0.6078468394475829\n"
     ]
    }
   ],
   "source": [
    "information_gain = ig.info_gain(df['Sepal length in cm'], df['Class_label'])\n",
    "print(information_gain)"
   ]
  },
  {
   "cell_type": "code",
   "execution_count": 4,
   "metadata": {},
   "outputs": [
    {
     "name": "stdout",
     "output_type": "stream",
     "text": [
      "1.002510220562347\n"
     ]
    }
   ],
   "source": [
    "information_gain = ig.info_gain(df['Petal length in cm'], df['Class_label'])\n",
    "print(information_gain)"
   ]
  }
 ],
 "metadata": {
  "kernelspec": {
   "display_name": "Python 3",
   "language": "python",
   "name": "python3"
  },
  "language_info": {
   "codemirror_mode": {
    "name": "ipython",
    "version": 3
   },
   "file_extension": ".py",
   "mimetype": "text/x-python",
   "name": "python",
   "nbconvert_exporter": "python",
   "pygments_lexer": "ipython3",
   "version": "3.6.8"
  }
 },
 "nbformat": 4,
 "nbformat_minor": 2
}
